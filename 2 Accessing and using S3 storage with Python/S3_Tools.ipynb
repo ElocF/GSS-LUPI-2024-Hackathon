{
 "cells": [
  {
   "cell_type": "code",
   "execution_count": null,
   "metadata": {},
   "outputs": [],
   "source": [
    "import logging\n",
    "import constants\n",
    "import boto3\n",
    "from botocore.exceptions import ClientError\n",
    "import os"
   ]
  },
  {
   "cell_type": "code",
   "execution_count": null,
   "metadata": {},
   "outputs": [],
   "source": [
    "#set up logging \n",
    "logging.basicConfig(level=logging.info)\n",
    "\n",
    "debug=logging.debug\n",
    "info=logging.info\n",
    "warning=logging.warning\n",
    "error=logging.error"
   ]
  },
  {
   "cell_type": "code",
   "execution_count": 15,
   "metadata": {},
   "outputs": [],
   "source": [
    "# use third party object storage to create an S3 Client\n",
    "s3_client = boto3.client(\n",
    "    \"s3\",\n",
    "    endpoint_url=constants.AWS_S3_ENDPOINT,\n",
    "    aws_access_key_id=constants.AWS_ACCESS_KEY_ID,\n",
    "    aws_secret_access_key=constants.AWS_SECRET_ACCESS_KEY,\n",
    ")\n",
    "\n",
    "bucket = constants.AWS_S3_BUCKET"
   ]
  },
  {
   "cell_type": "code",
   "execution_count": null,
   "metadata": {},
   "outputs": [],
   "source": [
    "#list contents of bucket \n",
    "response = s3_client.list_objects_v2(Bucket=bucket)\n",
    "\n",
    "if 'Contents' in response:\n",
    "    # Iterate over objects and print their names\n",
    "    for obj in response['Contents']:\n",
    "        debug(obj['Key'])\n",
    "        debug(obj['Size'])\n",
    "else:\n",
    "    error(\"No objects found in the bucket.\")"
   ]
  },
  {
   "cell_type": "code",
   "execution_count": 32,
   "metadata": {},
   "outputs": [],
   "source": [
    "# specify the folder path (in the current working directory) for your object \n",
    "# if the folder doesn't exist, create it\n",
    "save_path = os.path.join(os.getcwd(), r'junk')\n",
    "if not os.path.exists(save_path):\n",
    "    os.makedirs(save_path)\n",
    "\n",
    "# create new text file within the folder\n",
    "dest_file_path = os.path.join(save_path, r'test.txt')\n",
    "\n",
    "# write data to the new text file\n",
    "with open(dest_file_path, 'w') as fh:\n",
    "    fh.write('example example example\\n')"
   ]
  },
  {
   "cell_type": "code",
   "execution_count": null,
   "metadata": {},
   "outputs": [],
   "source": [
    "# put the new text file into your object storage bucket\n",
    "s3_client.put_object(Bucket=bucket, Key=dest_file_path)"
   ]
  },
  {
   "cell_type": "code",
   "execution_count": 34,
   "metadata": {},
   "outputs": [],
   "source": [
    "# define the function for creating presigned URL \n",
    "# running the function will return a shareable URL in the print output\n",
    "def create_presigned_url(\n",
    "    bucket_name = bucket,\n",
    "    object_name = dest_file_path,\n",
    "    expiration=180,\n",
    "):\n",
    "\n",
    "    try:\n",
    "        response = s3_client.generate_presigned_url(\n",
    "            \"get_object\",\n",
    "            Params={\"Bucket\": bucket_name, \"Key\": object_name},\n",
    "            ExpiresIn=expiration,\n",
    "            )\n",
    "        print(response)\n",
    "\n",
    "    except ClientError as e:\n",
    "        logging.error(e)\n",
    "        return None\n",
    "\n",
    "    # The response contains the presigned URL\n",
    "    return response"
   ]
  },
  {
   "cell_type": "code",
   "execution_count": null,
   "metadata": {},
   "outputs": [],
   "source": [
    "# run the presigned URL function with the given parameters\n",
    "create_presigned_url(bucket, dest_file_path)"
   ]
  },
  {
   "cell_type": "code",
   "execution_count": null,
   "metadata": {},
   "outputs": [],
   "source": [
    "# delete the remote object\n",
    "s3_client.delete_object(\n",
    "    Bucket=bucket, \n",
    "    Key=dest_file_path\n",
    "    )"
   ]
  }
 ],
 "metadata": {
  "kernelspec": {
   "display_name": "Python 3",
   "language": "python",
   "name": "python3"
  },
  "language_info": {
   "codemirror_mode": {
    "name": "ipython",
    "version": 3
   },
   "file_extension": ".py",
   "mimetype": "text/x-python",
   "name": "python",
   "nbconvert_exporter": "python",
   "pygments_lexer": "ipython3",
   "version": "3.11.4"
  }
 },
 "nbformat": 4,
 "nbformat_minor": 2
}
